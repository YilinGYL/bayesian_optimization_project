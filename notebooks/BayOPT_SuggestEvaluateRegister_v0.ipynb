{
 "cells": [
  {
   "cell_type": "markdown",
   "metadata": {},
   "source": [
    "# Suggest-Evaluate-Register Paradigm with Bayesian Optimization\n",
    "This is adapted to mannual experiment evaluation process, without a close-form black box function (the experiment is the black box).\n",
    "\n",
    "Follow the process to find the next parameter for experiment\n",
    "### Adjustment can be updated:\n",
    "- Initial data fitting: Gaussian Process Model\n",
    "- Utility function: ubs, ei, poi\n",
    "- Based on a two input setup --> for more than two parameters, plot seperate plots to visualize the relationship \n"
   ]
  },
  {
   "cell_type": "code",
   "execution_count": 140,
   "metadata": {},
   "outputs": [],
   "source": [
    "from bayes_opt import BayesianOptimization\n",
    "import numpy as np\n",
    "import matplotlib.pyplot as plt\n",
    "\n",
    "import ipywidgets as widgets\n",
    "from IPython.display import display"
   ]
  },
  {
   "cell_type": "code",
   "execution_count": 141,
   "metadata": {},
   "outputs": [],
   "source": [
    "import logging\n",
    "\n",
    "# Configure logging\n",
    "logging.basicConfig(filename='bayesian_optimization.log', level=logging.INFO,\n",
    "                    format='%(asctime)s - %(levelname)s - %(message)s')\n",
    "\n",
    "# # Function to log a message\n",
    "# def log_experiment(params, result):\n",
    "#     logging.info(f\"Experiment with params {params} yielded result {result}\")\n",
    "\n",
    "def log_experiment(params, result=None):\n",
    "    if result is not None:\n",
    "        logging.info(f\"Experiment conducted with params {params} yielded result {result}\")\n",
    "    else:\n",
    "        logging.info(f\"Suggestion made with params {params} without result yet\")"
   ]
  },
  {
   "cell_type": "code",
   "execution_count": 142,
   "metadata": {},
   "outputs": [],
   "source": [
    "global best_target"
   ]
  },
  {
   "cell_type": "code",
   "execution_count": 143,
   "metadata": {},
   "outputs": [],
   "source": [
    "def update_and_log_experiment(suggestion, result):\n",
    "    best_target = None\n",
    "    if best_target is None or (result > best_target):  # Assuming maximization problem\n",
    "        delta = result - best_target if best_target is not None else result\n",
    "        best_target = result\n",
    "    else:\n",
    "        delta = 0  # No improvement\n",
    "    \n",
    "    log_experiment(suggestion, result, delta)\n",
    "    return delta"
   ]
  },
  {
   "cell_type": "code",
   "execution_count": 144,
   "metadata": {},
   "outputs": [],
   "source": [
    "def is_duplicate(params, optimizer):\n",
    "    for existing in optimizer.space:\n",
    "        if existing.params == params:\n",
    "            return True\n",
    "    return False"
   ]
  },
  {
   "cell_type": "markdown",
   "metadata": {},
   "source": [
    "## Step 1: Setup Bayesian Optmization Framework"
   ]
  },
  {
   "cell_type": "code",
   "execution_count": 145,
   "metadata": {},
   "outputs": [],
   "source": [
    "# Parameter bounds\n",
    "pbounds = {\n",
    "    'x': (0, 10),\n",
    "    'y': (0, 10)\n",
    "}\n",
    "\n",
    "# Initialize Bayesian Optimization\n",
    "optimizer = BayesianOptimization(\n",
    "    f=None,  # f is None because we don't have a black box function\n",
    "    pbounds=pbounds,\n",
    "    verbose=2,\n",
    "    random_state=1\n",
    "    #allow_duplicate_points=True\n",
    ")"
   ]
  },
  {
   "cell_type": "code",
   "execution_count": 146,
   "metadata": {},
   "outputs": [],
   "source": [
    "# Unitiy funciton can be defined \n",
    "# Exploitation vs. Exploration: http://bayesian-optimization.github.io/BayesianOptimization/exploitation_vs_exploration.html\n",
    "# Upper confidence bound \"ucb\" kappa = 0.1 (peak) --> 10 (spread); \n",
    "# Expected improvement \"ei\" xi = 0 (peak) --> 1 (spread);\n",
    "# Probability of improvement \"poi\" xi = 1e-4 (peak) --> 0.1 (spread) \n",
    "\n",
    "from bayes_opt import UtilityFunction\n",
    "utility = UtilityFunction(kind=\"ei\", kappa=2.5, xi=1)\n"
   ]
  },
  {
   "cell_type": "markdown",
   "metadata": {},
   "source": [
    "## Step 2: Collect and Register Initial Data"
   ]
  },
  {
   "cell_type": "code",
   "execution_count": 147,
   "metadata": {},
   "outputs": [],
   "source": [
    "# Example initial data (you should replace this with your actual data)\n",
    "initial_data = [\n",
    "    {'params': {'x': 1, 'y': 1}, 'target': 3},\n",
    "    {'params': {'x': 2, 'y': 2}, 'target': 2},\n",
    "    {'params': {'x': 3, 'y': 3}, 'target': 0.5}\n",
    "]\n",
    "\n",
    "for data in initial_data:\n",
    "    optimizer.register(params=data['params'], target=data['target'])\n",
    "    log_experiment(data['params'], data['target'])"
   ]
  },
  {
   "cell_type": "code",
   "execution_count": 148,
   "metadata": {},
   "outputs": [
    {
     "name": "stdout",
     "output_type": "stream",
     "text": [
      "[{'target': 3.0, 'params': {'x': 1.0, 'y': 1.0}}, {'target': 2.0, 'params': {'x': 2.0, 'y': 2.0}}, {'target': 0.5, 'params': {'x': 3.0, 'y': 3.0}}]\n"
     ]
    }
   ],
   "source": [
    "print(optimizer.res)"
   ]
  },
  {
   "cell_type": "markdown",
   "metadata": {},
   "source": [
    "## Step 3: Suggest and Update"
   ]
  },
  {
   "cell_type": "markdown",
   "metadata": {},
   "source": [
    "### 3.1. Single next point"
   ]
  },
  {
   "cell_type": "code",
   "execution_count": 149,
   "metadata": {},
   "outputs": [
    {
     "name": "stdout",
     "output_type": "stream",
     "text": [
      "Next point to probe is: {'x': 0.0, 'y': 0.0}\n"
     ]
    }
   ],
   "source": [
    "# suggest is a funciton can be called anytime\n",
    "next_point = optimizer.suggest(utility)\n",
    "print(\"Next point to probe is:\", next_point)\n",
    "log_experiment(next_point)"
   ]
  },
  {
   "cell_type": "code",
   "execution_count": 150,
   "metadata": {},
   "outputs": [],
   "source": [
    "# Calculate target value from experiment\n",
    "experiment_result = 1.5"
   ]
  },
  {
   "cell_type": "code",
   "execution_count": 151,
   "metadata": {},
   "outputs": [],
   "source": [
    "# When registering new experiment data\n",
    "optimizer.register(params=next_point, target=experiment_result)\n",
    "log_experiment(next_point, experiment_result)\n",
    "#delta = update_and_log_experiment(next_point, experiment_result)"
   ]
  },
  {
   "cell_type": "markdown",
   "metadata": {},
   "source": [
    "### 3.2. Batch next point"
   ]
  },
  {
   "cell_type": "code",
   "execution_count": 102,
   "metadata": {},
   "outputs": [],
   "source": [
    "batch_size = 5"
   ]
  },
  {
   "cell_type": "code",
   "execution_count": 109,
   "metadata": {},
   "outputs": [],
   "source": [
    "# Generate suggestions and manually handle batch testing\n",
    "suggestions = [optimizer.suggest(utility) for _ in range(batch_size)]"
   ]
  },
  {
   "cell_type": "code",
   "execution_count": 110,
   "metadata": {},
   "outputs": [
    {
     "data": {
      "text/plain": [
       "[{'x': 0.3850294356437829, 'y': 1.929154192067508},\n",
       " {'x': 0.3848470665838382, 'y': 1.9287560184773058},\n",
       " {'x': 0.35272266730986157, 'y': 1.8987246241735645},\n",
       " {'x': 0.37840910650833615, 'y': 1.9163436460261163},\n",
       " {'x': 0.3845283064663576, 'y': 1.928804398546593}]"
      ]
     },
     "execution_count": 110,
     "metadata": {},
     "output_type": "execute_result"
    }
   ],
   "source": [
    "suggestions"
   ]
  },
  {
   "cell_type": "code",
   "execution_count": 111,
   "metadata": {},
   "outputs": [],
   "source": [
    "# Manual input of results for each experiment\n",
    "results = [0.7, 2.5, 3, 0.88, 1.23]  # Example results from experiments"
   ]
  },
  {
   "cell_type": "code",
   "execution_count": 112,
   "metadata": {},
   "outputs": [],
   "source": [
    "#results = [run_experiment(s) for s in suggestions]  # Assume this function runs the actual experiment\n",
    "for suggestion, result in zip(suggestions, results):\n",
    "    optimizer.register(params=suggestion, target=result)\n",
    "\n",
    "# After each batch, you can continue to refine and suggest new batches\n",
    "# This ensures the optimizer's model builds progressively without temporary data issues."
   ]
  },
  {
   "cell_type": "code",
   "execution_count": 113,
   "metadata": {},
   "outputs": [
    {
     "data": {
      "text/plain": [
       "[{'target': 3.0, 'params': {'x': 1.0, 'y': 1.0}},\n",
       " {'target': 2.0, 'params': {'x': 2.0, 'y': 2.0}},\n",
       " {'target': 0.5, 'params': {'x': 3.0, 'y': 3.0}},\n",
       " {'target': 1.5, 'params': {'x': 0.0, 'y': 0.0}},\n",
       " {'target': 0.3, 'params': {'x': 8.300019078873172, 'y': 6.601379171587518}},\n",
       " {'target': 0.5, 'params': {'x': 1.4930671317372957, 'y': 6.288117640027626}},\n",
       " {'target': 0.8, 'params': {'x': 0.8607209803110327, 'y': 7.586913375625651}},\n",
       " {'target': 0.9, 'params': {'x': 3.956274121597614, 'y': 1.6145817185462041}},\n",
       " {'target': 1.0, 'params': {'x': 8.876970310565088, 'y': 4.472002496129709}},\n",
       " {'target': 0.7, 'params': {'x': 0.3850294356437829, 'y': 1.929154192067508}},\n",
       " {'target': 2.5, 'params': {'x': 0.3848470665838382, 'y': 1.9287560184773058}},\n",
       " {'target': 3.0,\n",
       "  'params': {'x': 0.35272266730986157, 'y': 1.8987246241735645}},\n",
       " {'target': 0.88,\n",
       "  'params': {'x': 0.37840910650833615, 'y': 1.9163436460261163}},\n",
       " {'target': 1.23, 'params': {'x': 0.3845283064663576, 'y': 1.928804398546593}}]"
      ]
     },
     "execution_count": 113,
     "metadata": {},
     "output_type": "execute_result"
    }
   ],
   "source": [
    "optimizer.res"
   ]
  },
  {
   "cell_type": "code",
   "execution_count": null,
   "metadata": {},
   "outputs": [],
   "source": []
  },
  {
   "cell_type": "markdown",
   "metadata": {},
   "source": [
    "## Step 3: Function to Plot Response Surface"
   ]
  },
  {
   "cell_type": "code",
   "execution_count": 25,
   "metadata": {},
   "outputs": [],
   "source": [
    "def plot_response_surface(optimizer):\n",
    "    # Create a mesh grid of x and y values\n",
    "    x = np.linspace(pbounds['x'][0], pbounds['x'][1], 100)\n",
    "    y = np.linspace(pbounds['y'][0], pbounds['y'][1], 100)\n",
    "    X, Y = np.meshgrid(x, y)\n",
    "    # Flatten the grid to pass to the optimizer's model\n",
    "    X_flat = X.ravel()\n",
    "    Y_flat = Y.ravel()\n",
    "    # Predict using the surrogate model\n",
    "    mu, _ = optimizer._gp.predict(np.vstack((X_flat, Y_flat)).T, return_std=True)\n",
    "    mu = mu.reshape(X.shape)\n",
    "    \n",
    "    # Plot\n",
    "    plt.figure(figsize=(10, 8))\n",
    "    contour = plt.contourf(X, Y, mu, 100)\n",
    "    plt.colorbar(contour)\n",
    "    plt.title('Response Surface')\n",
    "    plt.xlabel('x')\n",
    "    plt.ylabel('y')\n",
    "    plt.show()"
   ]
  },
  {
   "cell_type": "code",
   "execution_count": 26,
   "metadata": {},
   "outputs": [
    {
     "data": {
      "image/png": "[encoded data removed]",
      "text/plain": [
       "<Figure size 1000x800 with 2 Axes>"
      ]
     },
     "metadata": {},
     "output_type": "display_data"
    }
   ],
   "source": [
    "plot_response_surface(optimizer)"
   ]
  },
  {
   "cell_type": "markdown",
   "metadata": {},
   "source": [
    "## Step 4: Interactive Experiment Loop (suggest next experiment)"
   ]
  },
  {
   "cell_type": "code",
   "execution_count": 20,
   "metadata": {},
   "outputs": [],
   "source": [
    "# Create a text input widget for entering the experiment results\n",
    "result_input = widgets.FloatText(\n",
    "    value=0.0,\n",
    "    description='Result:',\n",
    "    disabled=False\n",
    ")\n",
    "\n",
    "# Create a button to submit the result and update the optimization\n",
    "submit_button = widgets.Button(description=\"Submit Result\")\n",
    "\n",
    "# Output widget to update the plots and text dynamically\n",
    "output = widgets.Output()"
   ]
  },
  {
   "cell_type": "code",
   "execution_count": 21,
   "metadata": {},
   "outputs": [],
   "source": [
    "def on_submit_clicked(b):\n",
    "    # Update the optimizer with the new result\n",
    "    optimizer.register(params=next_point, target=result_input.value)\n",
    "    \n",
    "    # Clear the previous output and display the updated plot\n",
    "    with output:\n",
    "        output.clear_output(wait=True)\n",
    "        print(f\"Updated with result: {result_input.value} at point: {next_point}\")\n",
    "        plot_response_surface(optimizer)\n",
    "        display(result_input, submit_button)  # Display input and button again for next input\n",
    "\n",
    "# Link the button to the update function\n",
    "submit_button.on_click(on_submit_clicked)"
   ]
  },
  {
   "cell_type": "code",
   "execution_count": 22,
   "metadata": {},
   "outputs": [
    {
     "data": {
      "application/vnd.jupyter.widget-view+json": {
       "model_id": "5f290cea5bec471bab8a992f176d877a",
       "version_major": 2,
       "version_minor": 0
      },
      "text/plain": [
       "Output()"
      ]
     },
     "metadata": {},
     "output_type": "display_data"
    }
   ],
   "source": [
    "# Utility function to initialize or reset the experiment suggestion\n",
    "def start_experiment():\n",
    "    global next_point  # Declare as global if it's being modified outside this scope\n",
    "    next_point = optimizer.suggest(utility)\n",
    "    with output:\n",
    "        output.clear_output(wait=True)\n",
    "        print(f\"Suggested next point: {next_point}\")\n",
    "        display(result_input, submit_button)\n",
    "\n",
    "# Display the initial setup\n",
    "start_experiment()\n",
    "display(output)"
   ]
  },
  {
   "cell_type": "code",
   "execution_count": null,
   "metadata": {},
   "outputs": [],
   "source": []
  }
 ],
 "metadata": {
  "kernelspec": {
   "display_name": "base",
   "language": "python",
   "name": "python3"
  },
  "language_info": {
   "codemirror_mode": {
    "name": "ipython",
    "version": 3
   },
   "file_extension": ".py",
   "mimetype": "text/x-python",
   "name": "python",
   "nbconvert_exporter": "python",
   "pygments_lexer": "ipython3",
   "version": "3.10.9"
  }
 },
 "nbformat": 4,
 "nbformat_minor": 2
}
